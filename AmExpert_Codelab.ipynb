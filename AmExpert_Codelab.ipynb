{
  "cells": [
    {
      "cell_type": "markdown",
      "metadata": {
        "id": "UbvXSdV870ak"
      },
      "source": [
        "## Important Functions"
      ]
    },
    {
      "cell_type": "code",
      "execution_count": 20,
      "metadata": {
        "id": "vGtxLUQ_vT5i"
      },
      "outputs": [],
      "source": [
        "# For filling up the missing values\n",
        "def null_fill(train):\n",
        "  for i in train.columns:\n",
        "    if train[i].dtypes in ['object']:\n",
        "      train[i] = train[i].fillna(train[i].mode())\n",
        "    else:\n",
        "      if i in ['no_of_children','no_of_days_employed','total_family_members','migrant_worker']:\n",
        "        train[i] = train[i].fillna(math.floor(train[i].mean()))\n",
        "      else:\n",
        "        train[i] = train[i].fillna(train[i].mean())\n",
        "\n",
        "  train['owns_car'] = train['owns_car'].fillna(train['owns_car'].value_counts().sort_values(ascending = False).index[0])\n",
        "  train['gender'] = train['gender'].fillna(train['gender'].value_counts().sort_values(ascending = False).index[0])\n",
        "\n",
        "  for i in ['no_of_children','no_of_days_employed','total_family_members','migrant_worker']:\n",
        "    train[i] = train[i].astype('int')\n",
        "  \n",
        "  train['credit_limit_used(%)'] = train['credit_limit_used(%)'].astype('float')"
      ]
    },
    {
      "cell_type": "code",
      "execution_count": 21,
      "metadata": {
        "id": "9RbBeKlDv1XJ"
      },
      "outputs": [],
      "source": [
        "# For dropping unimportant columns in starting itself\n",
        "def remove_unimportant_columns(train):\n",
        "  train.drop(columns=['customer_id','name'],inplace=True)"
      ]
    },
    {
      "cell_type": "code",
      "execution_count": 22,
      "metadata": {
        "id": "0-yHX3cMxbbz"
      },
      "outputs": [],
      "source": [
        "# To extract discrete features\n",
        "def discrete_obtain(train):\n",
        "  discrete_features = train.dtypes == int\n",
        "  return discrete_features"
      ]
    },
    {
      "cell_type": "code",
      "execution_count": 23,
      "metadata": {
        "id": "bP36hNvkyfsK"
      },
      "outputs": [],
      "source": [
        "from sklearn.feature_selection import mutual_info_classif\n",
        "\n",
        "# For getting the mutual information scores of all features w.r.t to the target variable\n",
        "def make_mi_scores(X, y, discrete_features):\n",
        "    mi_scores = mutual_info_classif(X, y, discrete_features=discrete_features)\n",
        "    mi_scores = pd.Series(mi_scores, name=\"MI Scores\", index=X.columns)\n",
        "    mi_scores = mi_scores.sort_values(ascending=False)\n",
        "    return mi_scores\n",
        "\n"
      ]
    },
    {
      "cell_type": "code",
      "execution_count": 24,
      "metadata": {
        "id": "fKZLwB8By8w9"
      },
      "outputs": [],
      "source": [
        "# To encode categorical features to numerical data\n",
        "def label_encoder(X):\n",
        "  for colname in X.select_dtypes(\"object\"):\n",
        "    X[colname], _ = X[colname].factorize()\n",
        "    X[colname] = X[colname].astype('int')"
      ]
    },
    {
      "cell_type": "markdown",
      "metadata": {
        "id": "Eys-RP_F7ZAy"
      },
      "source": [
        "## Feature Extraction and Choosing Best Model"
      ]
    },
    {
      "cell_type": "code",
      "execution_count": 25,
      "metadata": {
        "id": "yc8u6DCFtV7I"
      },
      "outputs": [],
      "source": [
        "import pandas as pd\n",
        "import numpy as np\n",
        "import math"
      ]
    },
    {
      "cell_type": "code",
      "execution_count": 26,
      "metadata": {
        "id": "ma2VhvfkiVT_"
      },
      "outputs": [],
      "source": [
        "train = pd.read_csv('/content/train.csv')\n",
        "y_train = train.pop('credit_card_default')\n",
        "# Applying all the above functions to clean and make the data useful\n",
        "remove_unimportant_columns(train)\n",
        "null_fill(train)\n",
        "label_encoder(train)\n",
        "discrete = discrete_obtain(train)"
      ]
    },
    {
      "cell_type": "code",
      "execution_count": 27,
      "metadata": {
        "id": "D9Dy3UNih-9-"
      },
      "outputs": [],
      "source": [
        "# To standardize the data\n",
        "def standardize_float(train):\n",
        "  new = train.select_dtypes('float')\n",
        "\n",
        "  new = (new - new.mean())/new.std()\n",
        "  a = []\n",
        "  for i in train.columns:\n",
        "    if train[i].dtypes == 'float':\n",
        "      a.append(i)\n",
        "\n",
        "  train[a] = new\n",
        "  train['no_of_days_employed'] = (train['no_of_days_employed'] - train['no_of_days_employed'].mean())/train['no_of_days_employed'].std()"
      ]
    },
    {
      "cell_type": "code",
      "execution_count": 28,
      "metadata": {
        "colab": {
          "base_uri": "https://localhost:8080/",
          "height": 270
        },
        "id": "eqHtVsF4gKYN",
        "outputId": "282dc4d5-b6fc-401b-e58e-59f77b709871"
      },
      "outputs": [
        {
          "data": {
            "text/html": [
              "\n",
              "  <div id=\"df-510241ac-b219-4e37-8490-2574ef7c3309\">\n",
              "    <div class=\"colab-df-container\">\n",
              "      <div>\n",
              "<style scoped>\n",
              "    .dataframe tbody tr th:only-of-type {\n",
              "        vertical-align: middle;\n",
              "    }\n",
              "\n",
              "    .dataframe tbody tr th {\n",
              "        vertical-align: top;\n",
              "    }\n",
              "\n",
              "    .dataframe thead th {\n",
              "        text-align: right;\n",
              "    }\n",
              "</style>\n",
              "<table border=\"1\" class=\"dataframe\">\n",
              "  <thead>\n",
              "    <tr style=\"text-align: right;\">\n",
              "      <th></th>\n",
              "      <th>age</th>\n",
              "      <th>gender</th>\n",
              "      <th>owns_car</th>\n",
              "      <th>owns_house</th>\n",
              "      <th>no_of_children</th>\n",
              "      <th>net_yearly_income</th>\n",
              "      <th>no_of_days_employed</th>\n",
              "      <th>occupation_type</th>\n",
              "      <th>total_family_members</th>\n",
              "      <th>migrant_worker</th>\n",
              "      <th>yearly_debt_payments</th>\n",
              "      <th>credit_limit</th>\n",
              "      <th>credit_limit_used(%)</th>\n",
              "      <th>credit_score</th>\n",
              "      <th>prev_defaults</th>\n",
              "      <th>default_in_last_6months</th>\n",
              "    </tr>\n",
              "  </thead>\n",
              "  <tbody>\n",
              "    <tr>\n",
              "      <th>0</th>\n",
              "      <td>46</td>\n",
              "      <td>0</td>\n",
              "      <td>0</td>\n",
              "      <td>0</td>\n",
              "      <td>0</td>\n",
              "      <td>-0.138582</td>\n",
              "      <td>-0.483340</td>\n",
              "      <td>0</td>\n",
              "      <td>1</td>\n",
              "      <td>1</td>\n",
              "      <td>0.073808</td>\n",
              "      <td>-0.167070</td>\n",
              "      <td>0.706847</td>\n",
              "      <td>-2.373413</td>\n",
              "      <td>2</td>\n",
              "      <td>1</td>\n",
              "    </tr>\n",
              "    <tr>\n",
              "      <th>1</th>\n",
              "      <td>29</td>\n",
              "      <td>1</td>\n",
              "      <td>0</td>\n",
              "      <td>0</td>\n",
              "      <td>0</td>\n",
              "      <td>-0.135699</td>\n",
              "      <td>-0.467764</td>\n",
              "      <td>1</td>\n",
              "      <td>2</td>\n",
              "      <td>0</td>\n",
              "      <td>-0.954540</td>\n",
              "      <td>-0.039004</td>\n",
              "      <td>-0.008000</td>\n",
              "      <td>0.737582</td>\n",
              "      <td>0</td>\n",
              "      <td>0</td>\n",
              "    </tr>\n",
              "    <tr>\n",
              "      <th>2</th>\n",
              "      <td>37</td>\n",
              "      <td>1</td>\n",
              "      <td>0</td>\n",
              "      <td>0</td>\n",
              "      <td>0</td>\n",
              "      <td>0.044087</td>\n",
              "      <td>-0.486283</td>\n",
              "      <td>1</td>\n",
              "      <td>2</td>\n",
              "      <td>0</td>\n",
              "      <td>0.963362</td>\n",
              "      <td>-0.013107</td>\n",
              "      <td>-0.314363</td>\n",
              "      <td>-1.319850</td>\n",
              "      <td>0</td>\n",
              "      <td>0</td>\n",
              "    </tr>\n",
              "    <tr>\n",
              "      <th>3</th>\n",
              "      <td>39</td>\n",
              "      <td>0</td>\n",
              "      <td>0</td>\n",
              "      <td>0</td>\n",
              "      <td>0</td>\n",
              "      <td>-0.117072</td>\n",
              "      <td>-0.401609</td>\n",
              "      <td>2</td>\n",
              "      <td>2</td>\n",
              "      <td>0</td>\n",
              "      <td>-0.534591</td>\n",
              "      <td>-0.073399</td>\n",
              "      <td>-1.097291</td>\n",
              "      <td>-0.286164</td>\n",
              "      <td>0</td>\n",
              "      <td>0</td>\n",
              "    </tr>\n",
              "    <tr>\n",
              "      <th>4</th>\n",
              "      <td>46</td>\n",
              "      <td>1</td>\n",
              "      <td>1</td>\n",
              "      <td>0</td>\n",
              "      <td>0</td>\n",
              "      <td>0.278938</td>\n",
              "      <td>-0.477229</td>\n",
              "      <td>2</td>\n",
              "      <td>1</td>\n",
              "      <td>0</td>\n",
              "      <td>0.375962</td>\n",
              "      <td>0.063193</td>\n",
              "      <td>0.774928</td>\n",
              "      <td>1.433331</td>\n",
              "      <td>0</td>\n",
              "      <td>0</td>\n",
              "    </tr>\n",
              "  </tbody>\n",
              "</table>\n",
              "</div>\n",
              "      <button class=\"colab-df-convert\" onclick=\"convertToInteractive('df-510241ac-b219-4e37-8490-2574ef7c3309')\"\n",
              "              title=\"Convert this dataframe to an interactive table.\"\n",
              "              style=\"display:none;\">\n",
              "        \n",
              "  <svg xmlns=\"http://www.w3.org/2000/svg\" height=\"24px\"viewBox=\"0 0 24 24\"\n",
              "       width=\"24px\">\n",
              "    <path d=\"M0 0h24v24H0V0z\" fill=\"none\"/>\n",
              "    <path d=\"M18.56 5.44l.94 2.06.94-2.06 2.06-.94-2.06-.94-.94-2.06-.94 2.06-2.06.94zm-11 1L8.5 8.5l.94-2.06 2.06-.94-2.06-.94L8.5 2.5l-.94 2.06-2.06.94zm10 10l.94 2.06.94-2.06 2.06-.94-2.06-.94-.94-2.06-.94 2.06-2.06.94z\"/><path d=\"M17.41 7.96l-1.37-1.37c-.4-.4-.92-.59-1.43-.59-.52 0-1.04.2-1.43.59L10.3 9.45l-7.72 7.72c-.78.78-.78 2.05 0 2.83L4 21.41c.39.39.9.59 1.41.59.51 0 1.02-.2 1.41-.59l7.78-7.78 2.81-2.81c.8-.78.8-2.07 0-2.86zM5.41 20L4 18.59l7.72-7.72 1.47 1.35L5.41 20z\"/>\n",
              "  </svg>\n",
              "      </button>\n",
              "      \n",
              "  <style>\n",
              "    .colab-df-container {\n",
              "      display:flex;\n",
              "      flex-wrap:wrap;\n",
              "      gap: 12px;\n",
              "    }\n",
              "\n",
              "    .colab-df-convert {\n",
              "      background-color: #E8F0FE;\n",
              "      border: none;\n",
              "      border-radius: 50%;\n",
              "      cursor: pointer;\n",
              "      display: none;\n",
              "      fill: #1967D2;\n",
              "      height: 32px;\n",
              "      padding: 0 0 0 0;\n",
              "      width: 32px;\n",
              "    }\n",
              "\n",
              "    .colab-df-convert:hover {\n",
              "      background-color: #E2EBFA;\n",
              "      box-shadow: 0px 1px 2px rgba(60, 64, 67, 0.3), 0px 1px 3px 1px rgba(60, 64, 67, 0.15);\n",
              "      fill: #174EA6;\n",
              "    }\n",
              "\n",
              "    [theme=dark] .colab-df-convert {\n",
              "      background-color: #3B4455;\n",
              "      fill: #D2E3FC;\n",
              "    }\n",
              "\n",
              "    [theme=dark] .colab-df-convert:hover {\n",
              "      background-color: #434B5C;\n",
              "      box-shadow: 0px 1px 3px 1px rgba(0, 0, 0, 0.15);\n",
              "      filter: drop-shadow(0px 1px 2px rgba(0, 0, 0, 0.3));\n",
              "      fill: #FFFFFF;\n",
              "    }\n",
              "  </style>\n",
              "\n",
              "      <script>\n",
              "        const buttonEl =\n",
              "          document.querySelector('#df-510241ac-b219-4e37-8490-2574ef7c3309 button.colab-df-convert');\n",
              "        buttonEl.style.display =\n",
              "          google.colab.kernel.accessAllowed ? 'block' : 'none';\n",
              "\n",
              "        async function convertToInteractive(key) {\n",
              "          const element = document.querySelector('#df-510241ac-b219-4e37-8490-2574ef7c3309');\n",
              "          const dataTable =\n",
              "            await google.colab.kernel.invokeFunction('convertToInteractive',\n",
              "                                                     [key], {});\n",
              "          if (!dataTable) return;\n",
              "\n",
              "          const docLinkHtml = 'Like what you see? Visit the ' +\n",
              "            '<a target=\"_blank\" href=https://colab.research.google.com/notebooks/data_table.ipynb>data table notebook</a>'\n",
              "            + ' to learn more about interactive tables.';\n",
              "          element.innerHTML = '';\n",
              "          dataTable['output_type'] = 'display_data';\n",
              "          await google.colab.output.renderOutput(dataTable, element);\n",
              "          const docLink = document.createElement('div');\n",
              "          docLink.innerHTML = docLinkHtml;\n",
              "          element.appendChild(docLink);\n",
              "        }\n",
              "      </script>\n",
              "    </div>\n",
              "  </div>\n",
              "  "
            ],
            "text/plain": [
              "   age  gender  owns_car  ...  credit_score  prev_defaults  default_in_last_6months\n",
              "0   46       0         0  ...     -2.373413              2                        1\n",
              "1   29       1         0  ...      0.737582              0                        0\n",
              "2   37       1         0  ...     -1.319850              0                        0\n",
              "3   39       0         0  ...     -0.286164              0                        0\n",
              "4   46       1         1  ...      1.433331              0                        0\n",
              "\n",
              "[5 rows x 16 columns]"
            ]
          },
          "execution_count": 28,
          "metadata": {},
          "output_type": "execute_result"
        }
      ],
      "source": [
        "standardize_float(train)\n",
        "train.head()"
      ]
    },
    {
      "cell_type": "code",
      "execution_count": 29,
      "metadata": {
        "id": "gz1Pzwqk6J9r"
      },
      "outputs": [],
      "source": [
        "discrete = discrete_obtain(train)"
      ]
    },
    {
      "cell_type": "code",
      "execution_count": 30,
      "metadata": {
        "id": "ZbbhrVh56Ng7"
      },
      "outputs": [],
      "source": [
        "imp_feat = make_mi_scores(train,y_train,discrete)"
      ]
    },
    {
      "cell_type": "code",
      "execution_count": 31,
      "metadata": {
        "colab": {
          "base_uri": "https://localhost:8080/"
        },
        "id": "XC94bW_AfFIT",
        "outputId": "5fdcbdcc-51f7-4062-918a-4a29d62114e8"
      },
      "outputs": [
        {
          "data": {
            "text/plain": [
              "credit_score               0.219968\n",
              "prev_defaults              0.159089\n",
              "default_in_last_6months    0.146276\n",
              "credit_limit_used(%)       0.090940\n",
              "no_of_days_employed        0.003876\n",
              "occupation_type            0.003140\n",
              "gender                     0.001607\n",
              "credit_limit               0.001134\n",
              "migrant_worker             0.000549\n",
              "no_of_children             0.000486\n",
              "total_family_members       0.000367\n",
              "age                        0.000330\n",
              "net_yearly_income          0.000294\n",
              "owns_car                   0.000148\n",
              "owns_house                 0.000004\n",
              "yearly_debt_payments       0.000000\n",
              "Name: MI Scores, dtype: float64"
            ]
          },
          "execution_count": 31,
          "metadata": {},
          "output_type": "execute_result"
        }
      ],
      "source": [
        "imp_feat"
      ]
    },
    {
      "cell_type": "code",
      "execution_count": 32,
      "metadata": {
        "id": "woa7uKbdzqsH"
      },
      "outputs": [],
      "source": [
        "important_features = imp_feat[imp_feat > 0.001].index  # selecting importatn features, i,e, mutual score > 0.001"
      ]
    },
    {
      "cell_type": "code",
      "execution_count": 33,
      "metadata": {
        "id": "wqp7BTIogrp9"
      },
      "outputs": [],
      "source": [
        "from sklearn.preprocessing import StandardScaler\n",
        "st = StandardScaler()\n",
        "\n",
        "train = pd.DataFrame(st.fit_transform(train), columns=train.columns)"
      ]
    },
    {
      "cell_type": "code",
      "execution_count": 34,
      "metadata": {
        "id": "ndTM9YTt0jCg"
      },
      "outputs": [],
      "source": [
        "X_train = train[important_features]"
      ]
    },
    {
      "cell_type": "code",
      "execution_count": 35,
      "metadata": {
        "id": "ngIzx0p11F6C"
      },
      "outputs": [],
      "source": [
        "from sklearn.model_selection import cross_val_score"
      ]
    },
    {
      "cell_type": "code",
      "execution_count": 36,
      "metadata": {
        "id": "ogOpkjAp1Sut"
      },
      "outputs": [],
      "source": [
        "from xgboost import XGBClassifier\n",
        "from sklearn.ensemble import RandomForestClassifier"
      ]
    },
    {
      "cell_type": "code",
      "execution_count": 37,
      "metadata": {
        "id": "n5ew8scq1ZdS"
      },
      "outputs": [],
      "source": [
        "xg = XGBClassifier()\n",
        "rf = RandomForestClassifier()"
      ]
    },
    {
      "cell_type": "code",
      "execution_count": 38,
      "metadata": {
        "colab": {
          "base_uri": "https://localhost:8080/"
        },
        "id": "2OwMWj5s1KLN",
        "outputId": "037fb5fd-61c8-4a86-9f2f-30afa9b526ee"
      },
      "outputs": [
        {
          "name": "stdout",
          "output_type": "stream",
          "text": [
            "0.9804296242208281\n"
          ]
        }
      ],
      "source": [
        "# Choosing the best model by checking the cross validation scores\n",
        "\n",
        "acc1 = cross_val_score(xg,X_train,y_train,cv=5,scoring='accuracy').mean()\n",
        "print(acc1)"
      ]
    },
    {
      "cell_type": "code",
      "execution_count": 39,
      "metadata": {
        "colab": {
          "base_uri": "https://localhost:8080/"
        },
        "id": "GaWM8waQ1lk4",
        "outputId": "8c080d15-e73a-4c90-f3df-b1ee7958f915"
      },
      "outputs": [
        {
          "name": "stdout",
          "output_type": "stream",
          "text": [
            "0.9792654986791118\n"
          ]
        }
      ],
      "source": [
        "acc2 = cross_val_score(rf,X_train,y_train,cv=5,scoring='accuracy').mean()\n",
        "print(acc2)"
      ]
    },
    {
      "cell_type": "markdown",
      "metadata": {
        "id": "msI-8qxShvhi"
      },
      "source": [
        "## USING XGBOOST TO PREDICT TEST DATA RESULTS AND SUBMISSION"
      ]
    },
    {
      "cell_type": "code",
      "execution_count": 40,
      "metadata": {
        "id": "6qXuqJrf1pnM"
      },
      "outputs": [],
      "source": [
        "test = pd.read_csv('/content/test.csv')"
      ]
    },
    {
      "cell_type": "code",
      "execution_count": 41,
      "metadata": {
        "id": "ZubOWCG42F0B"
      },
      "outputs": [],
      "source": [
        "remove_unimportant_columns(test)"
      ]
    },
    {
      "cell_type": "code",
      "execution_count": 42,
      "metadata": {
        "id": "vW8iUeqR2JwF"
      },
      "outputs": [],
      "source": [
        "null_fill(test)"
      ]
    },
    {
      "cell_type": "code",
      "execution_count": 43,
      "metadata": {
        "id": "KYIquuDZ2MMa"
      },
      "outputs": [],
      "source": [
        "label_encoder(test)"
      ]
    },
    {
      "cell_type": "code",
      "execution_count": 44,
      "metadata": {
        "id": "9CQ-gl-wwrZd"
      },
      "outputs": [],
      "source": [
        "standardize_float(test)"
      ]
    },
    {
      "cell_type": "code",
      "execution_count": 45,
      "metadata": {
        "id": "Ak_X7Fx02PGy"
      },
      "outputs": [],
      "source": [
        "\n",
        "test = pd.DataFrame(st.transform(test), columns = test.columns)"
      ]
    },
    {
      "cell_type": "code",
      "execution_count": 46,
      "metadata": {
        "id": "wfK1Z8eT2QdR"
      },
      "outputs": [],
      "source": [
        "X_test = test[important_features]"
      ]
    },
    {
      "cell_type": "code",
      "execution_count": 47,
      "metadata": {
        "colab": {
          "base_uri": "https://localhost:8080/"
        },
        "id": "bdv0aiN32VpV",
        "outputId": "98c845e9-f357-4408-8025-6e389570fe13"
      },
      "outputs": [
        {
          "data": {
            "text/plain": [
              "array([ True,  True,  True,  True,  True,  True,  True,  True])"
            ]
          },
          "execution_count": 47,
          "metadata": {},
          "output_type": "execute_result"
        }
      ],
      "source": [
        "X_train.columns == X_test.columns"
      ]
    },
    {
      "cell_type": "code",
      "execution_count": 48,
      "metadata": {
        "colab": {
          "base_uri": "https://localhost:8080/"
        },
        "id": "Bt-fBFi02eX7",
        "outputId": "c26fee78-e77e-499d-ff8b-e75522ba214a"
      },
      "outputs": [
        {
          "data": {
            "text/plain": [
              "XGBClassifier()"
            ]
          },
          "execution_count": 48,
          "metadata": {},
          "output_type": "execute_result"
        }
      ],
      "source": [
        "xg.fit(X_train,y_train)"
      ]
    },
    {
      "cell_type": "code",
      "execution_count": 49,
      "metadata": {
        "id": "huJE539C24B8"
      },
      "outputs": [],
      "source": [
        "def create_submission(xg,X_test,test_file,name_of_file):\n",
        "  final = pd.DataFrame(test_file['customer_id'])\n",
        "  pred = xg.predict(X_test)\n",
        "  final['credit_card_default'] = pred\n",
        "  final.to_csv('/content/'+ name_of_file+'.csv',index=False)\n"
      ]
    },
    {
      "cell_type": "code",
      "execution_count": 50,
      "metadata": {
        "id": "tozV8eOA3l_K"
      },
      "outputs": [],
      "source": [
        "test_file = pd.read_csv('/content/test.csv')"
      ]
    },
    {
      "cell_type": "code",
      "execution_count": 51,
      "metadata": {
        "id": "LsuaBpr83sod"
      },
      "outputs": [],
      "source": [
        "create_submission(xg,X_test,test_file,'submission_amexpert_final') \n",
        "#Submission csv file made\n",
        "#Achieved accuracy of 91.88975%"
      ]
    }
  ],
  "metadata": {
    "accelerator": "GPU",
    "colab": {
      "name": "AmExpert Codelab.ipynb",
      "provenance": []
    },
    "kernelspec": {
      "display_name": "Python 3",
      "name": "python3"
    },
    "language_info": {
      "name": "python"
    }
  },
  "nbformat": 4,
  "nbformat_minor": 0
}
